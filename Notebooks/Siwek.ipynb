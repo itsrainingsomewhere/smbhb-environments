{
 "cells": [
  {
   "cell_type": "markdown",
   "id": "983e5c73",
   "metadata": {},
   "source": [
    "An attempt to reproduce Magdalena Siwek's work in [insert paper] and to eventually get an expression and slope/line for $\\frac{da}{dt}$ and thus $\\frac{df_{\\text{gw}}}{dt}$. Defunct/unfinished."
   ]
  },
  {
   "cell_type": "code",
   "execution_count": 6,
   "id": "e87bea66",
   "metadata": {},
   "outputs": [],
   "source": [
    "#all for eccentricity of 0\n",
    "from enterprise import constants as const\n",
    "import numpy as np\n",
    "#I should probably be using something from scipy.interpolate, but I don't know which one to use\n",
    "\n",
    "def changeRateOfSeparation(q, separation): #do we NEED disk variables? also mTot is not used at all\n",
    "    \"\"\"\n",
    "    :returns: the rate of change of separation in terms of whatever units you put in! (terrible)\n",
    "    All this does is interpolate based on \n",
    "    \"\"\"\n",
    "    qs = np.array([0.1, 0.2, 0.3, 0.4, 0.5, 0.6, 0.7, 0.8, 0.9, 1.0])\n",
    "    aDots = np.array([-1.28, -0.77, 1.15, 1.29, 1.43, 1.58, 1.67, 1.72, 1.74, 1.76]) #these are actually aDot/a, not just aDot\n",
    "    aDot = np.interp(q, qs, aDots) #not good for lower values, need to use somthing polynomial probably\n",
    "    return separation * aDot #because if the array gives us aDot/a, then just multiply by a! What could go wrong!\n",
    "\n",
    "#obviously there is a lot missing here, and it's probably entirely the wrong approach, but not sure what the RIGHT approach is."
   ]
  },
  {
   "cell_type": "code",
   "execution_count": 35,
   "id": "62463726",
   "metadata": {},
   "outputs": [
    {
     "name": "stdout",
     "output_type": "stream",
     "text": [
      "aDot: -0.77\n",
      "-0.07700000000000001\n"
     ]
    }
   ],
   "source": [
    "print(changeRateOfSeparation(0.2, 0.1))"
   ]
  },
  {
   "cell_type": "markdown",
   "id": "aa82a08a",
   "metadata": {},
   "source": [
    "TODO:\n",
    "- size of disk? understand what assumptions she's making\n",
    "- completely remodel the code if this was the wrong approach (alternate approaches are trying the equations, even if I have no idea how to do that, or asking for her code and setting up the simulation myself)\n",
    "- if this the right approach:\n",
    "    - fix interpolation (which should I use? I need to look at the options more carefully)\n",
    "    - graph against evolution due to gravitational waves"
   ]
  },
  {
   "cell_type": "code",
   "execution_count": 3,
   "id": "022549cc",
   "metadata": {},
   "outputs": [],
   "source": [
    "def changeRateOfFrequency(q, mTot, separation):\n",
    "    \"\"\"\n",
    "    :param a: mass ratio, < 1, decimal\n",
    "    :param mTot: total mass, in solar masses\n",
    "    :param accretionRate: mass accretion rate at outer edge of disk, in [unit]\n",
    "    :param separation: current orbital separation, in pc\n",
    "    disk variables\n",
    "    \n",
    "    :return: dw/dt in s^-2, using the expression dw/dt = -3(M^1/2)(a^-5/2)(da/dt) / 2\n",
    "    \"\"\"\n",
    "    aDot = changeRateOfSeparation(q, separation) #da/dt\n",
    "    return -3 * (mTot ** 1/2) * (separation ** -5/2) * aDot / 2"
   ]
  }
 ],
 "metadata": {
  "celltoolbar": "Raw Cell Format",
  "kernelspec": {
   "display_name": "Python [conda env:ent] *",
   "language": "python",
   "name": "conda-env-ent-py"
  },
  "language_info": {
   "codemirror_mode": {
    "name": "ipython",
    "version": 3
   },
   "file_extension": ".py",
   "mimetype": "text/x-python",
   "name": "python",
   "nbconvert_exporter": "python",
   "pygments_lexer": "ipython3",
   "version": "3.12.0"
  }
 },
 "nbformat": 4,
 "nbformat_minor": 5
}
