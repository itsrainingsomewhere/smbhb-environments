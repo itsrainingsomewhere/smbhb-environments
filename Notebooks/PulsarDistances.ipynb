{
 "cells": [
  {
   "cell_type": "markdown",
   "id": "6c44f61e",
   "metadata": {},
   "source": [
    "I gathered the mean distances to all the pulsars in the IPTA dr2, as well as their positions in the sky and the plus and minus error for all their distances just for the heck of it. It's in a text file, hopefully in the same folder as this notebook. Read from the folder. Made a distribution graph of those distances, and I was *hoping* to plot their positions on a sky map and get some insight into how the position of a GW source at various locations in the sky would interact with the distance and location distribution of the pulsars, but I have not gotten the sky map working yet."
   ]
  },
  {
   "cell_type": "code",
   "execution_count": 6,
   "id": "d8f72ecb",
   "metadata": {},
   "outputs": [],
   "source": [
    "import numpy as np\n",
    "import matplotlib.pyplot as plt\n",
    "%matplotlib inline\n",
    "import matplotlib as mpl\n",
    "import healpy as hp"
   ]
  },
  {
   "cell_type": "code",
   "execution_count": 2,
   "id": "c177a60e",
   "metadata": {},
   "outputs": [],
   "source": [
    "#a pulsar class so you can create pulsar objects with all that data from the text file so they're easier to work with\n",
    "\n",
    "class Pulsar:\n",
    "    def __init__(self, line):\n",
    "        line = line.split()\n",
    "        \n",
    "        self.name = line[0]\n",
    "        \n",
    "        temp = line[1].split('+')\n",
    "        self.meanDistance = float(temp[0])\n",
    "        temporary = temp[1].split('-')\n",
    "        self.plusError = float(temporary[0])\n",
    "        self.minusError = float(temporary[1])\n",
    "        \n",
    "        self.rAsc = line[2]\n",
    "        dividedUp = self.rAsc.split(':')\n",
    "        hours = float(dividedUp[0])\n",
    "        minutes = float(dividedUp[1])\n",
    "        seconds = float(dividedUp[2])\n",
    "        hours += (minutes / 60) + (seconds / 3600)\n",
    "        self.phi = np.pi * hours / 12 #THIS IS IN RADIANS\n",
    "        \n",
    "        self.dec = line[3]\n",
    "        divvyUp = self.dec.split(':')\n",
    "        sign = divvyUp[0][0:1]\n",
    "        divvyUp[0] = divvyUp[0][1:]\n",
    "        degrees = float(divvyUp[0])\n",
    "        minutes = float(divvyUp[1])\n",
    "        seconds = float(divvyUp[2])\n",
    "        degrees += (minutes / 60) + (seconds / 3600)\n",
    "        if (sign.endswith('+')):\n",
    "            self.theta = (np.pi/2) - (np.pi * degrees / 180)\n",
    "        else:\n",
    "            self.theta = (np.pi/2) + (np.pi * degrees / 180)\n",
    "            \n",
    "        self.pos = [np.sin(self.phi) * np.cos(self.theta), np.sin(self.phi) * np.sin(self.theta), np.cos(self.phi)]\n",
    "        \n",
    "    #can't do multiple constructors? evil evil evil\n",
    "    \n",
    "    def __str__(self):\n",
    "        return str(self.name) + \", located at \" + str(self.rAsc) + \" \" + str(self.dec)+\": \" + str(self.meanDistance) + \"+\" + str(self.plusError) + \"-\" + str(self.minusError) + \" kpc\"\n",
    "    "
   ]
  },
  {
   "cell_type": "markdown",
   "id": "74d8ee2e",
   "metadata": {},
   "source": [
    "Formula for pos is just the conversion from spherical to Cartesian coordinates (assuming $\\rho = 1$, since these are unit vectors):\n",
    "\n",
    "$$x = \\sin{\\phi}\\cos{\\theta}$$\n",
    "$$y = \\sin{\\phi}\\sin{\\theta}$$\n",
    "$$x = \\cos{\\phi}$$\n",
    "\n",
    "This is *similar* to what enterprise does--I'm positive enterprise is converting into Cartesian coordinates (partly just because you need to do that if you want to take the dot product because both polar coordinates and celestial coordinates are not vector spaces and you need to have a vector space if you want an inner product (i.e. a dot product)), but enterprise does it straight from right ascension and declination, not from spherical coordinates, which I don't fully understand. Since I understand this, I'm doing this. I *think* the end result should be the same, but we'll see!"
   ]
  },
  {
   "cell_type": "code",
   "execution_count": 3,
   "id": "27870deb",
   "metadata": {},
   "outputs": [],
   "source": [
    "#read from the file\n",
    "f = open(\"pulsarDistPM.txt\")\n",
    "pulsars = []\n",
    "for x in range(65):\n",
    "    pulsars.append(Pulsar(f.readline()))"
   ]
  },
  {
   "cell_type": "code",
   "execution_count": 14,
   "id": "04c286d3",
   "metadata": {},
   "outputs": [
    {
     "name": "stdout",
     "output_type": "stream",
     "text": [
      "7.5\n"
     ]
    },
    {
     "data": {
      "image/png": "[encoded data removed]",
      "text/plain": [
       "<Figure size 355.037x219.425 with 1 Axes>"
      ]
     },
     "metadata": {},
     "output_type": "display_data"
    }
   ],
   "source": [
    "#to make that nice pretty distance distribution plot for the paper\n",
    "\n",
    "mpl.rcParams['mathtext.fontset'] = 'stix'\n",
    "mpl.rcParams['font.family'] = 'STIXGeneral'\n",
    "\n",
    "distances = []\n",
    "for x in range(65):\n",
    "    distances.append(pulsars[x].meanDistance)\n",
    "min = 0\n",
    "bins = []\n",
    "print(max(distances))\n",
    "for x in range(17):\n",
    "    bins.append(min)\n",
    "    min += 0.5\n",
    "\n",
    "plt.figure(figsize=figsize(0.5))\n",
    "plt.hist(distances, bins, histtype='bar', rwidth=1)\n",
    "\n",
    "plt.xlabel(r'$d_p$ [kpc]', fontsize = 10)\n",
    "plt.ylabel('Number of Pulsars', fontsize = 10)\n",
    "plt.xticks(fontsize=10)\n",
    "plt.yticks(fontsize = 10)\n",
    "plt.tight_layout()\n",
    "plt.savefig(\"pDist.png\", transparent=True)\n",
    "plt.show()"
   ]
  },
  {
   "cell_type": "markdown",
   "id": "9ca75d91",
   "metadata": {},
   "source": [
    "I was struggling to understand the light travel time function and didn't want to code it until I understood it, so I actually went through quite a few iterations based on different physical models and understandings of the problem. I think this top one is the correct one:"
   ]
  },
  {
   "cell_type": "code",
   "execution_count": 6,
   "id": "82f1d206",
   "metadata": {},
   "outputs": [],
   "source": [
    "def calcTimeDelay(pDist, pulsarPos, sourcePos):\n",
    "    return pDist * (1 + np.dot(pulsarPos, sourcePos))"
   ]
  },
  {
   "cell_type": "markdown",
   "id": "8804c162",
   "metadata": {},
   "source": [
    "^ Assuming plane wave:\n",
    "$\\Delta = p + p \\cos{\\mu} = p(1 + \\hat{p} \\cdot \\hat{s})$ where:\n",
    "- $p$ is the distance from Earth to the pulsar\n",
    "- $\\mu$ is the angle between the unit vectors from Earth to the pulsar and from Earth to the source\n",
    "- $\\hat{p}$ is the unit vector from Earth to the pulsar\n",
    "- $\\hat{s}$ is the unit vector from the Earth to the GW source (take note of the order, opposite of slides)\n",
    "- $\\Delta$ is what I think \"light travel time\" means"
   ]
  },
  {
   "cell_type": "markdown",
   "id": "20979723",
   "metadata": {},
   "source": [
    "$\\Delta t = d_p ( 1 + \\hat{p} \\cdot \\hat{s})$\n",
    "\n",
    "$\\hat{p}$: unit vector from Earth to pulsar\n",
    "$\\hat{s}$: unit vector from Earth to GW source"
   ]
  },
  {
   "cell_type": "code",
   "execution_count": 7,
   "id": "d70aef02",
   "metadata": {},
   "outputs": [],
   "source": [
    "def distanceTraveledByGW(pDist, sDist, pulsarPos, sourcePos):\n",
    "    #where sourcePos is the unit vector FROM the source towards us, rather than from US to the source\n",
    "    #thus, pulsarPos dotted with sourcePos results in -cosMu, not cosMu, which is why below is a plus isntead of a minus\n",
    "    return pDist + np.sqrt((sDist ** 2) + (pDist ** 2) + (2 * pDist * sDist * np.dot(pulsarPos, sourcePos)))"
   ]
  },
  {
   "cell_type": "markdown",
   "id": "e172bc1f",
   "metadata": {},
   "source": [
    "^ (Assuming spherical wavefronts) From: $\\Delta = p + x$ and $x^2 = \\Omega^2 + p^2 + 2\\Omega p (\\hat{\\Omega} \\cdot \\hat{p})$, where:\n",
    "\n",
    "- $p$ is the distance from Earth to the pulsar\n",
    "- $\\hat{p}$ is the unit vector from Earth to the pulsar\n",
    "- $\\Omega$ is the distance between Earth and the GW source\n",
    "- $\\hat{\\Omega}$ is the unit vector from the GW source to Earth (take note of the order, same as slides)\n",
    "- $x$ is the distance between the pulsar and the GW source\n",
    "- $\\Delta$ is what I *think* the \"light travel time\" is--the distance traveled by the GW going from the source to the pulsar, and then the distance traveled by the pulsar's signal to Earth"
   ]
  },
  {
   "cell_type": "markdown",
   "id": "87e2401b",
   "metadata": {},
   "source": [
    "What follows below is something that I guess in theory combined the two? Really should in general just use calcTimeDelay. But this one is nice because it takes in the pulsar object, which contains its distance and position *for* you."
   ]
  },
  {
   "cell_type": "code",
   "execution_count": 8,
   "id": "a32e5b67",
   "metadata": {},
   "outputs": [],
   "source": [
    "def getLightTravelDistanceForPulsar(pulsar, sourcePos, planeWave, sDist=0):\n",
    "    \"\"\"\n",
    "    :param pulsar: Pulsar object, contains its distance & position (& name)\n",
    "    :param sourcePos: position vector (in Cartesian coordinates) of the GW source\n",
    "    :param planeWave: whether we use the plane wave approximation, or if we want to use the spherical wave function\n",
    "    :param sDist: distance to the GW source, necessary if we want to use the spherical wave function\n",
    "    \"\"\"\n",
    "    #WHAT ARE WE DOING WITH UNITS HOLD UP\n",
    "    pDist = pulsar.meanDistance\n",
    "    pulsarPos = pulsar.pos\n",
    "    if planeWave:\n",
    "        return calcTimeDelay(pDist, pulsarPos, sourcePos)\n",
    "    else:\n",
    "        return distanceTraveledByGW(pDist, sDist, pulsarPos, sourcePos)"
   ]
  },
  {
   "cell_type": "markdown",
   "id": "38875dd1",
   "metadata": {},
   "source": [
    "My spectacularly failed attempt to plot these pulsars on the sky:"
   ]
  },
  {
   "cell_type": "code",
   "execution_count": 15,
   "id": "e497942c",
   "metadata": {},
   "outputs": [
    {
     "name": "stdout",
     "output_type": "stream",
     "text": [
      "J0023+0923\n"
     ]
    },
    {
     "ename": "AttributeError",
     "evalue": "PathCollection.set() got an unexpected keyword argument 'projection'",
     "output_type": "error",
     "traceback": [
      "\u001b[31m---------------------------------------------------------------------------\u001b[39m",
      "\u001b[31mAttributeError\u001b[39m                            Traceback (most recent call last)",
      "\u001b[36mCell\u001b[39m\u001b[36m \u001b[39m\u001b[32mIn[15]\u001b[39m\u001b[32m, line 32\u001b[39m\n\u001b[32m     19\u001b[39m \u001b[38;5;28mprint\u001b[39m(pulsars[\u001b[32m0\u001b[39m].name)\n\u001b[32m     20\u001b[39m \u001b[33;03m\"\"\"\u001b[39;00m\n\u001b[32m     21\u001b[39m \n\u001b[32m     22\u001b[39m \u001b[33;03m# Plot points\u001b[39;00m\n\u001b[32m   (...)\u001b[39m\u001b[32m     29\u001b[39m \n\u001b[32m     30\u001b[39m \u001b[33;03mplt.show()\"\"\"\u001b[39;00m\n\u001b[32m---> \u001b[39m\u001b[32m32\u001b[39m \u001b[43mplt\u001b[49m\u001b[43m.\u001b[49m\u001b[43mscatter\u001b[49m\u001b[43m(\u001b[49m\u001b[43mphis\u001b[49m\u001b[43m,\u001b[49m\u001b[43m \u001b[49m\u001b[43mthetas\u001b[49m\u001b[43m,\u001b[49m\u001b[43m \u001b[49m\u001b[43mprojection\u001b[49m\u001b[43m \u001b[49m\u001b[43m=\u001b[49m\u001b[43m \u001b[49m\u001b[33;43m\"\u001b[39;49m\u001b[33;43mmollweide\u001b[39;49m\u001b[33;43m\"\u001b[39;49m\u001b[43m,\u001b[49m\u001b[43m \u001b[49m\u001b[43mrot\u001b[49m\u001b[43m=\u001b[49m\u001b[43m(\u001b[49m\u001b[32;43m180\u001b[39;49m\u001b[43m,\u001b[49m\u001b[43m \u001b[49m\u001b[32;43m0\u001b[39;49m\u001b[43m,\u001b[49m\u001b[43m \u001b[49m\u001b[32;43m0\u001b[39;49m\u001b[43m)\u001b[49m\u001b[43m)\u001b[49m\n",
      "\u001b[36mFile \u001b[39m\u001b[32m~/miniconda3/envs/ent/lib/python3.12/site-packages/matplotlib/_api/deprecation.py:453\u001b[39m, in \u001b[36mmake_keyword_only.<locals>.wrapper\u001b[39m\u001b[34m(*args, **kwargs)\u001b[39m\n\u001b[32m    447\u001b[39m \u001b[38;5;28;01mif\u001b[39;00m \u001b[38;5;28mlen\u001b[39m(args) > name_idx:\n\u001b[32m    448\u001b[39m     warn_deprecated(\n\u001b[32m    449\u001b[39m         since, message=\u001b[33m\"\u001b[39m\u001b[33mPassing the \u001b[39m\u001b[38;5;132;01m%(name)s\u001b[39;00m\u001b[33m \u001b[39m\u001b[38;5;132;01m%(obj_type)s\u001b[39;00m\u001b[33m \u001b[39m\u001b[33m\"\u001b[39m\n\u001b[32m    450\u001b[39m         \u001b[33m\"\u001b[39m\u001b[33mpositionally is deprecated since Matplotlib \u001b[39m\u001b[38;5;132;01m%(since)s\u001b[39;00m\u001b[33m; the \u001b[39m\u001b[33m\"\u001b[39m\n\u001b[32m    451\u001b[39m         \u001b[33m\"\u001b[39m\u001b[33mparameter will become keyword-only in \u001b[39m\u001b[38;5;132;01m%(removal)s\u001b[39;00m\u001b[33m.\u001b[39m\u001b[33m\"\u001b[39m,\n\u001b[32m    452\u001b[39m         name=name, obj_type=\u001b[33mf\u001b[39m\u001b[33m\"\u001b[39m\u001b[33mparameter of \u001b[39m\u001b[38;5;132;01m{\u001b[39;00mfunc.\u001b[34m__name__\u001b[39m\u001b[38;5;132;01m}\u001b[39;00m\u001b[33m()\u001b[39m\u001b[33m\"\u001b[39m)\n\u001b[32m--> \u001b[39m\u001b[32m453\u001b[39m \u001b[38;5;28;01mreturn\u001b[39;00m \u001b[43mfunc\u001b[49m\u001b[43m(\u001b[49m\u001b[43m*\u001b[49m\u001b[43margs\u001b[49m\u001b[43m,\u001b[49m\u001b[43m \u001b[49m\u001b[43m*\u001b[49m\u001b[43m*\u001b[49m\u001b[43mkwargs\u001b[49m\u001b[43m)\u001b[49m\n",
      "\u001b[36mFile \u001b[39m\u001b[32m~/miniconda3/envs/ent/lib/python3.12/site-packages/matplotlib/pyplot.py:3948\u001b[39m, in \u001b[36mscatter\u001b[39m\u001b[34m(x, y, s, c, marker, cmap, norm, vmin, vmax, alpha, linewidths, edgecolors, colorizer, plotnonfinite, data, **kwargs)\u001b[39m\n\u001b[32m   3928\u001b[39m \u001b[38;5;129m@_copy_docstring_and_deprecators\u001b[39m(Axes.scatter)\n\u001b[32m   3929\u001b[39m \u001b[38;5;28;01mdef\u001b[39;00m\u001b[38;5;250m \u001b[39m\u001b[34mscatter\u001b[39m(\n\u001b[32m   3930\u001b[39m     x: \u001b[38;5;28mfloat\u001b[39m | ArrayLike,\n\u001b[32m   (...)\u001b[39m\u001b[32m   3946\u001b[39m     **kwargs,\n\u001b[32m   3947\u001b[39m ) -> PathCollection:\n\u001b[32m-> \u001b[39m\u001b[32m3948\u001b[39m     __ret = \u001b[43mgca\u001b[49m\u001b[43m(\u001b[49m\u001b[43m)\u001b[49m\u001b[43m.\u001b[49m\u001b[43mscatter\u001b[49m\u001b[43m(\u001b[49m\n\u001b[32m   3949\u001b[39m \u001b[43m        \u001b[49m\u001b[43mx\u001b[49m\u001b[43m,\u001b[49m\n\u001b[32m   3950\u001b[39m \u001b[43m        \u001b[49m\u001b[43my\u001b[49m\u001b[43m,\u001b[49m\n\u001b[32m   3951\u001b[39m \u001b[43m        \u001b[49m\u001b[43ms\u001b[49m\u001b[43m=\u001b[49m\u001b[43ms\u001b[49m\u001b[43m,\u001b[49m\n\u001b[32m   3952\u001b[39m \u001b[43m        \u001b[49m\u001b[43mc\u001b[49m\u001b[43m=\u001b[49m\u001b[43mc\u001b[49m\u001b[43m,\u001b[49m\n\u001b[32m   3953\u001b[39m \u001b[43m        \u001b[49m\u001b[43mmarker\u001b[49m\u001b[43m=\u001b[49m\u001b[43mmarker\u001b[49m\u001b[43m,\u001b[49m\n\u001b[32m   3954\u001b[39m \u001b[43m        \u001b[49m\u001b[43mcmap\u001b[49m\u001b[43m=\u001b[49m\u001b[43mcmap\u001b[49m\u001b[43m,\u001b[49m\n\u001b[32m   3955\u001b[39m \u001b[43m        \u001b[49m\u001b[43mnorm\u001b[49m\u001b[43m=\u001b[49m\u001b[43mnorm\u001b[49m\u001b[43m,\u001b[49m\n\u001b[32m   3956\u001b[39m \u001b[43m        \u001b[49m\u001b[43mvmin\u001b[49m\u001b[43m=\u001b[49m\u001b[43mvmin\u001b[49m\u001b[43m,\u001b[49m\n\u001b[32m   3957\u001b[39m \u001b[43m        \u001b[49m\u001b[43mvmax\u001b[49m\u001b[43m=\u001b[49m\u001b[43mvmax\u001b[49m\u001b[43m,\u001b[49m\n\u001b[32m   3958\u001b[39m \u001b[43m        \u001b[49m\u001b[43malpha\u001b[49m\u001b[43m=\u001b[49m\u001b[43malpha\u001b[49m\u001b[43m,\u001b[49m\n\u001b[32m   3959\u001b[39m \u001b[43m        \u001b[49m\u001b[43mlinewidths\u001b[49m\u001b[43m=\u001b[49m\u001b[43mlinewidths\u001b[49m\u001b[43m,\u001b[49m\n\u001b[32m   3960\u001b[39m \u001b[43m        \u001b[49m\u001b[43medgecolors\u001b[49m\u001b[43m=\u001b[49m\u001b[43medgecolors\u001b[49m\u001b[43m,\u001b[49m\n\u001b[32m   3961\u001b[39m \u001b[43m        \u001b[49m\u001b[43mcolorizer\u001b[49m\u001b[43m=\u001b[49m\u001b[43mcolorizer\u001b[49m\u001b[43m,\u001b[49m\n\u001b[32m   3962\u001b[39m \u001b[43m        \u001b[49m\u001b[43mplotnonfinite\u001b[49m\u001b[43m=\u001b[49m\u001b[43mplotnonfinite\u001b[49m\u001b[43m,\u001b[49m\n\u001b[32m   3963\u001b[39m \u001b[43m        \u001b[49m\u001b[43m*\u001b[49m\u001b[43m*\u001b[49m\u001b[43m(\u001b[49m\u001b[43m{\u001b[49m\u001b[33;43m\"\u001b[39;49m\u001b[33;43mdata\u001b[39;49m\u001b[33;43m\"\u001b[39;49m\u001b[43m:\u001b[49m\u001b[43m \u001b[49m\u001b[43mdata\u001b[49m\u001b[43m}\u001b[49m\u001b[43m \u001b[49m\u001b[38;5;28;43;01mif\u001b[39;49;00m\u001b[43m \u001b[49m\u001b[43mdata\u001b[49m\u001b[43m \u001b[49m\u001b[38;5;129;43;01mis\u001b[39;49;00m\u001b[43m \u001b[49m\u001b[38;5;129;43;01mnot\u001b[39;49;00m\u001b[43m \u001b[49m\u001b[38;5;28;43;01mNone\u001b[39;49;00m\u001b[43m \u001b[49m\u001b[38;5;28;43;01melse\u001b[39;49;00m\u001b[43m \u001b[49m\u001b[43m{\u001b[49m\u001b[43m}\u001b[49m\u001b[43m)\u001b[49m\u001b[43m,\u001b[49m\n\u001b[32m   3964\u001b[39m \u001b[43m        \u001b[49m\u001b[43m*\u001b[49m\u001b[43m*\u001b[49m\u001b[43mkwargs\u001b[49m\u001b[43m,\u001b[49m\n\u001b[32m   3965\u001b[39m \u001b[43m    \u001b[49m\u001b[43m)\u001b[49m\n\u001b[32m   3966\u001b[39m     sci(__ret)\n\u001b[32m   3967\u001b[39m     \u001b[38;5;28;01mreturn\u001b[39;00m __ret\n",
      "\u001b[36mFile \u001b[39m\u001b[32m~/miniconda3/envs/ent/lib/python3.12/site-packages/matplotlib/_api/deprecation.py:453\u001b[39m, in \u001b[36mmake_keyword_only.<locals>.wrapper\u001b[39m\u001b[34m(*args, **kwargs)\u001b[39m\n\u001b[32m    447\u001b[39m \u001b[38;5;28;01mif\u001b[39;00m \u001b[38;5;28mlen\u001b[39m(args) > name_idx:\n\u001b[32m    448\u001b[39m     warn_deprecated(\n\u001b[32m    449\u001b[39m         since, message=\u001b[33m\"\u001b[39m\u001b[33mPassing the \u001b[39m\u001b[38;5;132;01m%(name)s\u001b[39;00m\u001b[33m \u001b[39m\u001b[38;5;132;01m%(obj_type)s\u001b[39;00m\u001b[33m \u001b[39m\u001b[33m\"\u001b[39m\n\u001b[32m    450\u001b[39m         \u001b[33m\"\u001b[39m\u001b[33mpositionally is deprecated since Matplotlib \u001b[39m\u001b[38;5;132;01m%(since)s\u001b[39;00m\u001b[33m; the \u001b[39m\u001b[33m\"\u001b[39m\n\u001b[32m    451\u001b[39m         \u001b[33m\"\u001b[39m\u001b[33mparameter will become keyword-only in \u001b[39m\u001b[38;5;132;01m%(removal)s\u001b[39;00m\u001b[33m.\u001b[39m\u001b[33m\"\u001b[39m,\n\u001b[32m    452\u001b[39m         name=name, obj_type=\u001b[33mf\u001b[39m\u001b[33m\"\u001b[39m\u001b[33mparameter of \u001b[39m\u001b[38;5;132;01m{\u001b[39;00mfunc.\u001b[34m__name__\u001b[39m\u001b[38;5;132;01m}\u001b[39;00m\u001b[33m()\u001b[39m\u001b[33m\"\u001b[39m)\n\u001b[32m--> \u001b[39m\u001b[32m453\u001b[39m \u001b[38;5;28;01mreturn\u001b[39;00m \u001b[43mfunc\u001b[49m\u001b[43m(\u001b[49m\u001b[43m*\u001b[49m\u001b[43margs\u001b[49m\u001b[43m,\u001b[49m\u001b[43m \u001b[49m\u001b[43m*\u001b[49m\u001b[43m*\u001b[49m\u001b[43mkwargs\u001b[49m\u001b[43m)\u001b[49m\n",
      "\u001b[36mFile \u001b[39m\u001b[32m~/miniconda3/envs/ent/lib/python3.12/site-packages/matplotlib/__init__.py:1521\u001b[39m, in \u001b[36m_preprocess_data.<locals>.inner\u001b[39m\u001b[34m(ax, data, *args, **kwargs)\u001b[39m\n\u001b[32m   1518\u001b[39m \u001b[38;5;129m@functools\u001b[39m.wraps(func)\n\u001b[32m   1519\u001b[39m \u001b[38;5;28;01mdef\u001b[39;00m\u001b[38;5;250m \u001b[39m\u001b[34minner\u001b[39m(ax, *args, data=\u001b[38;5;28;01mNone\u001b[39;00m, **kwargs):\n\u001b[32m   1520\u001b[39m     \u001b[38;5;28;01mif\u001b[39;00m data \u001b[38;5;129;01mis\u001b[39;00m \u001b[38;5;28;01mNone\u001b[39;00m:\n\u001b[32m-> \u001b[39m\u001b[32m1521\u001b[39m         \u001b[38;5;28;01mreturn\u001b[39;00m \u001b[43mfunc\u001b[49m\u001b[43m(\u001b[49m\n\u001b[32m   1522\u001b[39m \u001b[43m            \u001b[49m\u001b[43max\u001b[49m\u001b[43m,\u001b[49m\n\u001b[32m   1523\u001b[39m \u001b[43m            \u001b[49m\u001b[43m*\u001b[49m\u001b[38;5;28;43mmap\u001b[39;49m\u001b[43m(\u001b[49m\u001b[43mcbook\u001b[49m\u001b[43m.\u001b[49m\u001b[43msanitize_sequence\u001b[49m\u001b[43m,\u001b[49m\u001b[43m \u001b[49m\u001b[43margs\u001b[49m\u001b[43m)\u001b[49m\u001b[43m,\u001b[49m\n\u001b[32m   1524\u001b[39m \u001b[43m            \u001b[49m\u001b[43m*\u001b[49m\u001b[43m*\u001b[49m\u001b[43m{\u001b[49m\u001b[43mk\u001b[49m\u001b[43m:\u001b[49m\u001b[43m \u001b[49m\u001b[43mcbook\u001b[49m\u001b[43m.\u001b[49m\u001b[43msanitize_sequence\u001b[49m\u001b[43m(\u001b[49m\u001b[43mv\u001b[49m\u001b[43m)\u001b[49m\u001b[43m \u001b[49m\u001b[38;5;28;43;01mfor\u001b[39;49;00m\u001b[43m \u001b[49m\u001b[43mk\u001b[49m\u001b[43m,\u001b[49m\u001b[43m \u001b[49m\u001b[43mv\u001b[49m\u001b[43m \u001b[49m\u001b[38;5;129;43;01min\u001b[39;49;00m\u001b[43m \u001b[49m\u001b[43mkwargs\u001b[49m\u001b[43m.\u001b[49m\u001b[43mitems\u001b[49m\u001b[43m(\u001b[49m\u001b[43m)\u001b[49m\u001b[43m}\u001b[49m\u001b[43m)\u001b[49m\n\u001b[32m   1526\u001b[39m     bound = new_sig.bind(ax, *args, **kwargs)\n\u001b[32m   1527\u001b[39m     auto_label = (bound.arguments.get(label_namer)\n\u001b[32m   1528\u001b[39m                   \u001b[38;5;129;01mor\u001b[39;00m bound.kwargs.get(label_namer))\n",
      "\u001b[36mFile \u001b[39m\u001b[32m~/miniconda3/envs/ent/lib/python3.12/site-packages/matplotlib/axes/_axes.py:5052\u001b[39m, in \u001b[36mAxes.scatter\u001b[39m\u001b[34m(self, x, y, s, c, marker, cmap, norm, vmin, vmax, alpha, linewidths, edgecolors, colorizer, plotnonfinite, **kwargs)\u001b[39m\n\u001b[32m   5048\u001b[39m         keys_str = \u001b[33m\"\u001b[39m\u001b[33m, \u001b[39m\u001b[33m\"\u001b[39m.join(\u001b[33mf\u001b[39m\u001b[33m\"\u001b[39m\u001b[33m'\u001b[39m\u001b[38;5;132;01m{\u001b[39;00mk\u001b[38;5;132;01m}\u001b[39;00m\u001b[33m'\u001b[39m\u001b[33m\"\u001b[39m \u001b[38;5;28;01mfor\u001b[39;00m k \u001b[38;5;129;01min\u001b[39;00m extra_keys)\n\u001b[32m   5049\u001b[39m         _api.warn_external(\n\u001b[32m   5050\u001b[39m             \u001b[33m\"\u001b[39m\u001b[33mNo data for colormapping provided via \u001b[39m\u001b[33m'\u001b[39m\u001b[33mc\u001b[39m\u001b[33m'\u001b[39m\u001b[33m. \u001b[39m\u001b[33m\"\u001b[39m\n\u001b[32m   5051\u001b[39m             \u001b[33mf\u001b[39m\u001b[33m\"\u001b[39m\u001b[33mParameters \u001b[39m\u001b[38;5;132;01m{\u001b[39;00mkeys_str\u001b[38;5;132;01m}\u001b[39;00m\u001b[33m will be ignored\u001b[39m\u001b[33m\"\u001b[39m)\n\u001b[32m-> \u001b[39m\u001b[32m5052\u001b[39m \u001b[43mcollection\u001b[49m\u001b[43m.\u001b[49m\u001b[43m_internal_update\u001b[49m\u001b[43m(\u001b[49m\u001b[43mkwargs\u001b[49m\u001b[43m)\u001b[49m\n\u001b[32m   5054\u001b[39m \u001b[38;5;66;03m# Classic mode only:\u001b[39;00m\n\u001b[32m   5055\u001b[39m \u001b[38;5;66;03m# ensure there are margins to allow for the\u001b[39;00m\n\u001b[32m   5056\u001b[39m \u001b[38;5;66;03m# finite size of the symbols.  In v2.x, margins\u001b[39;00m\n\u001b[32m   5057\u001b[39m \u001b[38;5;66;03m# are present by default, so we disable this\u001b[39;00m\n\u001b[32m   5058\u001b[39m \u001b[38;5;66;03m# scatter-specific override.\u001b[39;00m\n\u001b[32m   5059\u001b[39m \u001b[38;5;28;01mif\u001b[39;00m mpl.rcParams[\u001b[33m'\u001b[39m\u001b[33m_internal.classic_mode\u001b[39m\u001b[33m'\u001b[39m]:\n",
      "\u001b[36mFile \u001b[39m\u001b[32m~/miniconda3/envs/ent/lib/python3.12/site-packages/matplotlib/artist.py:1233\u001b[39m, in \u001b[36mArtist._internal_update\u001b[39m\u001b[34m(self, kwargs)\u001b[39m\n\u001b[32m   1226\u001b[39m \u001b[38;5;28;01mdef\u001b[39;00m\u001b[38;5;250m \u001b[39m\u001b[34m_internal_update\u001b[39m(\u001b[38;5;28mself\u001b[39m, kwargs):\n\u001b[32m   1227\u001b[39m \u001b[38;5;250m    \u001b[39m\u001b[33;03m\"\"\"\u001b[39;00m\n\u001b[32m   1228\u001b[39m \u001b[33;03m    Update artist properties without prenormalizing them, but generating\u001b[39;00m\n\u001b[32m   1229\u001b[39m \u001b[33;03m    errors as if calling `set`.\u001b[39;00m\n\u001b[32m   1230\u001b[39m \n\u001b[32m   1231\u001b[39m \u001b[33;03m    The lack of prenormalization is to maintain backcompatibility.\u001b[39;00m\n\u001b[32m   1232\u001b[39m \u001b[33;03m    \"\"\"\u001b[39;00m\n\u001b[32m-> \u001b[39m\u001b[32m1233\u001b[39m     \u001b[38;5;28;01mreturn\u001b[39;00m \u001b[38;5;28;43mself\u001b[39;49m\u001b[43m.\u001b[49m\u001b[43m_update_props\u001b[49m\u001b[43m(\u001b[49m\n\u001b[32m   1234\u001b[39m \u001b[43m        \u001b[49m\u001b[43mkwargs\u001b[49m\u001b[43m,\u001b[49m\u001b[43m \u001b[49m\u001b[33;43m\"\u001b[39;49m\u001b[38;5;132;43;01m{cls.__name__}\u001b[39;49;00m\u001b[33;43m.set() got an unexpected keyword argument \u001b[39;49m\u001b[33;43m\"\u001b[39;49m\n\u001b[32m   1235\u001b[39m \u001b[43m        \u001b[49m\u001b[33;43m\"\u001b[39;49m\u001b[38;5;132;43;01m{prop_name!r}\u001b[39;49;00m\u001b[33;43m\"\u001b[39;49m\u001b[43m)\u001b[49m\n",
      "\u001b[36mFile \u001b[39m\u001b[32m~/miniconda3/envs/ent/lib/python3.12/site-packages/matplotlib/artist.py:1206\u001b[39m, in \u001b[36mArtist._update_props\u001b[39m\u001b[34m(self, props, errfmt)\u001b[39m\n\u001b[32m   1204\u001b[39m             func = \u001b[38;5;28mgetattr\u001b[39m(\u001b[38;5;28mself\u001b[39m, \u001b[33mf\u001b[39m\u001b[33m\"\u001b[39m\u001b[33mset_\u001b[39m\u001b[38;5;132;01m{\u001b[39;00mk\u001b[38;5;132;01m}\u001b[39;00m\u001b[33m\"\u001b[39m, \u001b[38;5;28;01mNone\u001b[39;00m)\n\u001b[32m   1205\u001b[39m             \u001b[38;5;28;01mif\u001b[39;00m \u001b[38;5;129;01mnot\u001b[39;00m \u001b[38;5;28mcallable\u001b[39m(func):\n\u001b[32m-> \u001b[39m\u001b[32m1206\u001b[39m                 \u001b[38;5;28;01mraise\u001b[39;00m \u001b[38;5;167;01mAttributeError\u001b[39;00m(\n\u001b[32m   1207\u001b[39m                     errfmt.format(\u001b[38;5;28mcls\u001b[39m=\u001b[38;5;28mtype\u001b[39m(\u001b[38;5;28mself\u001b[39m), prop_name=k),\n\u001b[32m   1208\u001b[39m                     name=k)\n\u001b[32m   1209\u001b[39m             ret.append(func(v))\n\u001b[32m   1210\u001b[39m \u001b[38;5;28;01mif\u001b[39;00m ret:\n",
      "\u001b[31mAttributeError\u001b[39m: PathCollection.set() got an unexpected keyword argument 'projection'"
     ]
    },
    {
     "data": {
      "image/png": "[encoded data removed]",
      "text/plain": [
       "<Figure size 640x480 with 1 Axes>"
      ]
     },
     "metadata": {},
     "output_type": "display_data"
    }
   ],
   "source": [
    "\n",
    "thetas = np.array([])\n",
    "phis = np.array([])\n",
    "for x in range(65):\n",
    "    thetas = np.append(thetas, pulsars[x].theta)\n",
    "    phis = np.append(phis, pulsars[x].phi)\n",
    "thetas =  (np.pi / 2) - thetas\n",
    "phis = phis\n",
    "\n",
    "#hp.visufunc.mollview(rot=180, title='')\n",
    "\n",
    "\n",
    "\"\"\"fig = plt.figure(figsize=(10, 5))\n",
    "ax = fig.add_subplot(111, projection='mollweide', rot=(180, 0, 0))\n",
    "\"\"\"\n",
    "#phis = pulsars[0].phi - np.pi\n",
    "phis = pulsars[0].phi\n",
    "#thetas = pulsars[0].theta - (np.pi / 2)\n",
    "thetas = np.pi/2 - pulsars[0].theta\n",
    "print(pulsars[0].name)\n",
    "\"\"\"\n",
    "\n",
    "# Plot points\n",
    "ax.scatter(phis, thetas, s=10, color='black')\n",
    "\n",
    "# Styling\n",
    "ax.grid(True)\n",
    "ax.set_facecolor('white')\n",
    "ax.set_title(\"Pulsar Positions (Mollweide Projection)\", fontsize=14)\n",
    "\n",
    "plt.show()\"\"\"\n",
    "\n",
    "plt.scatter(phis, thetas, projection = \"mollweide\", rot=(180, 0, 0))"
   ]
  },
  {
   "cell_type": "markdown",
   "id": "5ac868c3",
   "metadata": {},
   "source": [
    "Sarah's figsize functions to make pretty golden ratio graphs:"
   ]
  },
  {
   "cell_type": "code",
   "execution_count": 9,
   "id": "ecb3deb0",
   "metadata": {},
   "outputs": [],
   "source": [
    "def figsize(scale):\n",
    "    fig_width_pt = 513.17\n",
    "    inches_per_pt = 1.0/72.27\n",
    "    golden_mean = (np.sqrt(5.0)-1.0)/2.0\n",
    "    fig_width = fig_width_pt * inches_per_pt*scale\n",
    "    fig_height = fig_width * golden_mean\n",
    "    fig_size = [fig_width, fig_height]\n",
    "    \n",
    "    return fig_size\n",
    "\n",
    "def figsize2(scale):\n",
    "    fig_width_pt = 513.17\n",
    "    inches_per_pt = 1.0/72.27\n",
    "    golden_mean = (np.sqrt(5.0)-1.0)/2.0\n",
    "    fig_width = fig_width_pt * inches_per_pt*scale\n",
    "    fig_height = fig_width * golden_mean\n",
    "    fig_size = [fig_width, 1.5*fig_height]\n",
    "    \n",
    "    return fig_size\n",
    "\n",
    "def figsize3(scale):\n",
    "    fig_width_pt = 513.17\n",
    "    inches_per_pt = 1.0/72.27\n",
    "    golden_mean = (np.sqrt(5.0)-1.0)/2.0\n",
    "    fig_width = fig_width_pt * inches_per_pt*scale\n",
    "    fig_height = fig_width * golden_mean\n",
    "    fig_size = [fig_width, 2.5*fig_height]\n",
    "    \n",
    "    return fig_size"
   ]
  }
 ],
 "metadata": {
  "kernelspec": {
   "display_name": "Python [conda env:ent] *",
   "language": "python",
   "name": "conda-env-ent-py"
  },
  "language_info": {
   "codemirror_mode": {
    "name": "ipython",
    "version": 3
   },
   "file_extension": ".py",
   "mimetype": "text/x-python",
   "name": "python",
   "nbconvert_exporter": "python",
   "pygments_lexer": "ipython3",
   "version": "3.12.0"
  }
 },
 "nbformat": 4,
 "nbformat_minor": 5
}
