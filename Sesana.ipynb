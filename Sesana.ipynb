{
 "cells": [
  {
   "cell_type": "markdown",
   "id": "32a50d19",
   "metadata": {},
   "source": [
    "This was an attempt to code up the expression from the first Sesana paper I found (the one that very briefly gave me the expressions for separation evolution for SS and CBD). Since I abandoned CBD work, I abandoned this."
   ]
  },
  {
   "cell_type": "code",
   "execution_count": 3,
   "id": "84ebf01d",
   "metadata": {},
   "outputs": [],
   "source": [
    "from enterprise import constants as const\n",
    "\n",
    "def changeRateOfSeparation(q, mTot, accretionRate, separation): #variables missing for disk computation\n",
    "    \"\"\"\n",
    "    Returns the rate of change of the orbital separation of a SMBH binary due to the affects of a circumbinary disk.\n",
    "    \n",
    "    :param a: mass ratio, < 1, decimal\n",
    "    :param mTot: total mass, in solar masses\n",
    "    :param accretionRate: mass accretion rate at outer edge of disk, in [unit] (Eddington??)\n",
    "    :param separation: current orbital separation, in pc\n",
    "    disk variables\n",
    "    \n",
    "    :return: da/dt in . . . pc/s, probably?\n",
    "    \"\"\"\n",
    "    #first, cast everything into seconds\n",
    "    #check if Alberto's is in geometric units\n",
    "    mTot *= const.Tsun\n",
    "    #accretionRate--not sure what units this is inputted in currently, so not sure how to convert it\n",
    "    separation *= const.kpc / 1000 / const.c\n",
    "    a_0 = 6 * separation #from a star formation paper; temporary test value, needs to be calculated from inputs\n",
    "    \n",
    "    m = mTot * q / (1 + q) #\"secondary\" SMBH\n",
    "    M = mTot - m\n",
    "    \n",
    "    #reduced mass\n",
    "    mu = ( (1/M) + (1/m) ) ** -1\n",
    "    \n",
    "    #FIX UNITS\n",
    "    return 2 * accretionRate * ( (separation * a_0) ** 1/2 ) / mu"
   ]
  },
  {
   "cell_type": "code",
   "execution_count": 4,
   "id": "42a51af9",
   "metadata": {},
   "outputs": [
    {
     "name": "stdout",
     "output_type": "stream",
     "text": [
      "312303445564.95514\n"
     ]
    }
   ],
   "source": [
    "#test with very dumb values to make sure it does SOMETHING\n",
    "print(changeRateOfSeparation(0.1, 10 ** 9, 0.2, 0.1))"
   ]
  },
  {
   "cell_type": "markdown",
   "id": "03a79893",
   "metadata": {},
   "source": [
    "TODO:\n",
    "- Find units for accretion rate\n",
    "- Find reasonable parameters for the disk and how to derive \"a_0\" from those parameters (a little confused by how it's described in the literature?)\n",
    "    - I assumed that common parameters would be the inner radius of the disk and maybe something about thickness, but inner radius doesn't seem to be a common variable in the literature at all. Wait, do they even HAVE an inner radius? Magda mentioned something about seeing disks in terms of surface density, so maybe something like that would be useful instead, but I haven't seen that in the (admittedly limited) papers I've looked at so far.\n",
    "- Fix units of output so it does actually output in pc/s (which I assume is what we want?)\n",
    "- In summary, I just need to become familiar with the terminology and literature on circumbinary disks."
   ]
  },
  {
   "cell_type": "code",
   "execution_count": 6,
   "id": "dc5aa4d1",
   "metadata": {},
   "outputs": [],
   "source": [
    "def changeRateOfFrequency(q, mTot, accretionRate, separation):\n",
    "    \"\"\"\n",
    "    :param a: mass ratio, < 1, decimal\n",
    "    :param mTot: total mass, in solar masses\n",
    "    :param accretionRate: mass accretion rate at outer edge of disk, in [unit]\n",
    "    :param separation: current orbital separation, in pc\n",
    "    disk variables\n",
    "    \n",
    "    :return: dw/dt in s^-2, using the expression dw/dt = -3(M^1/2)(a^-5/2)(da/dt) / 2\n",
    "    #that's so ugly. I latexed it below\n",
    "    #that expression comes from just differentiating w = sqrt(M/a^3) using the chain rule; is it correct?\n",
    "    \"\"\"\n",
    "    aDot = changeRateOfSeparation(q, mTot, accretionRate, separation) #da/dt\n",
    "    return -3 * (mTot ** 1/2) * (separation ** -5/2) * aDot / 2"
   ]
  },
  {
   "cell_type": "markdown",
   "id": "cfed797c",
   "metadata": {},
   "source": [
    "$$\\frac{d\\omega}{dt} = \\frac{-3\\sqrt{M}}{2}a^{-5/2}\\frac{da}{dt}$$\n",
    "\n",
    "ha HA you CAN do latex! WOOOOOO SOMETHING I KNOW HOW TO DO"
   ]
  }
 ],
 "metadata": {
  "kernelspec": {
   "display_name": "Python [conda env:ent] *",
   "language": "python",
   "name": "conda-env-ent-py"
  },
  "language_info": {
   "codemirror_mode": {
    "name": "ipython",
    "version": 3
   },
   "file_extension": ".py",
   "mimetype": "text/x-python",
   "name": "python",
   "nbconvert_exporter": "python",
   "pygments_lexer": "ipython3",
   "version": "3.12.0"
  }
 },
 "nbformat": 4,
 "nbformat_minor": 5
}
